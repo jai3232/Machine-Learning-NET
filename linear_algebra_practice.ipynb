{
 "cells": [
  {
   "cell_type": "markdown",
   "metadata": {},
   "source": [
    "# Linear Algebra with NumPy and Scipy"
   ]
  },
  {
   "cell_type": "markdown",
   "metadata": {},
   "source": []
  },
  {
   "cell_type": "code",
   "execution_count": 6,
   "metadata": {},
   "outputs": [],
   "source": [
    "import numpy as np\n",
    "import scipy.linalg as la"
   ]
  },
  {
   "cell_type": "markdown",
   "metadata": {},
   "source": [
    "# Operation\n",
    "## 1. Transpose"
   ]
  },
  {
   "cell_type": "code",
   "execution_count": 9,
   "metadata": {},
   "outputs": [
    {
     "name": "stdout",
     "output_type": "stream",
     "text": [
      "[[1 2 3]\n",
      " [4 5 6]\n",
      " [7 8 9]]\n",
      "[[1 4 7]\n",
      " [2 5 8]\n",
      " [3 6 9]]\n"
     ]
    }
   ],
   "source": [
    "# Numpy\n",
    "A = np.array([[1,2,3],[4,5,6],[7,8,9]])\n",
    "print(A)\n",
    "print(A.T)"
   ]
  },
  {
   "cell_type": "code",
   "execution_count": 12,
   "metadata": {},
   "outputs": [
    {
     "name": "stdout",
     "output_type": "stream",
     "text": [
      "(5, 4, 3)\n",
      "(3, 4, 5)\n"
     ]
    }
   ],
   "source": [
    "# Create a tensor\n",
    "B = np.random.random((5,4,3))\n",
    "print(B.shape)\n",
    "B_t = np.transpose(B, (2,1,0))\n",
    "print(B_t.shape)"
   ]
  },
  {
   "cell_type": "markdown",
   "metadata": {},
   "source": [
    "## 2.1 Element-wise product\n",
    "Just use the arthmetic operator for multiplication for two matrices"
   ]
  },
  {
   "cell_type": "code",
   "execution_count": 13,
   "metadata": {},
   "outputs": [
    {
     "name": "stdout",
     "output_type": "stream",
     "text": [
      "[[ 2  4]\n",
      " [ 9 12]]\n"
     ]
    }
   ],
   "source": [
    "A = np.array([[1,2],[3,4]])\n",
    "B = np.array([[2,2],[3,3]])\n",
    "C = A * B\n",
    "print(C)"
   ]
  },
  {
   "cell_type": "markdown",
   "metadata": {},
   "source": [
    "## 3. Matrix Product\n",
    "Use the @ operator"
   ]
  },
  {
   "cell_type": "code",
   "execution_count": 15,
   "metadata": {},
   "outputs": [
    {
     "name": "stdout",
     "output_type": "stream",
     "text": [
      "[[ 8  8]\n",
      " [18 18]]\n"
     ]
    }
   ],
   "source": [
    "C = A @ B\n",
    "print(C)"
   ]
  },
  {
   "cell_type": "markdown",
   "metadata": {},
   "source": [
    "## 4. Inverse Matrix\n",
    "Definition: $A(A^{-1}) = I$"
   ]
  },
  {
   "cell_type": "code",
   "execution_count": 20,
   "metadata": {},
   "outputs": [
    {
     "name": "stdout",
     "output_type": "stream",
     "text": [
      "0.0\n"
     ]
    }
   ],
   "source": [
    "# Numpy\n",
    "A = np.array([[1,2,3],[4,5,6], [7,8,9]])\n",
    "A_det = np.linalg.det(A)\n",
    "# A_inv = np.linalg.inv(A)\n",
    "print(A_det)\n",
    "# print(A_inv)"
   ]
  },
  {
   "cell_type": "markdown",
   "metadata": {},
   "source": [
    "## 5. Permutation Matrix\n",
    "Just think of it as rearrange your identity matrix  "
   ]
  },
  {
   "cell_type": "code",
   "execution_count": 25,
   "metadata": {},
   "outputs": [
    {
     "name": "stdout",
     "output_type": "stream",
     "text": [
      "[[0.23406792 0.41735661 0.2188929 ]\n",
      " [0.85907918 0.89893621 0.95752813]\n",
      " [0.93923747 0.49159196 0.30921962]]\n",
      "[[0.23406792 0.41735661 0.2188929 ]\n",
      " [0.85907918 0.89893621 0.95752813]\n",
      " [0.93923747 0.49159196 0.30921962]]\n"
     ]
    }
   ],
   "source": [
    "A = np.random.random((3,3))\n",
    "A_perm = np.array([[1,0,0],[0,1,0],[0,0,1]])\n",
    "print(A)\n",
    "print(A@A_perm)"
   ]
  },
  {
   "cell_type": "markdown",
   "metadata": {},
   "source": [
    "## 6. Solving system of linear equations\n",
    "Example:\n",
    "$$X_1 + 5x_2 = 7$$\n",
    "$$-2x_1 - 7x_2 = -5$$"
   ]
  },
  {
   "cell_type": "code",
   "execution_count": 30,
   "metadata": {},
   "outputs": [
    {
     "name": "stdout",
     "output_type": "stream",
     "text": [
      "[[-8.]\n",
      " [ 3.]]\n"
     ]
    }
   ],
   "source": [
    "# Rrote the linear aquations as two seprate arrays\n",
    "var_A = np.array([[1,5],[-2,-7]])\n",
    "A = np.array([[7,-5]])\n",
    "\n",
    "# Sove the linear equations using the scipy module\n",
    "ans_A = la.solve(var_A, A.T)\n",
    "print(ans_A)"
   ]
  },
  {
   "cell_type": "markdown",
   "metadata": {},
   "source": [
    "## 7. Gaussian Elimination  \n",
    "Step 1: From the augmented matrix"
   ]
  },
  {
   "cell_type": "code",
   "execution_count": 31,
   "metadata": {},
   "outputs": [
    {
     "name": "stdout",
     "output_type": "stream",
     "text": [
      "[[ 1  5  7]\n",
      " [-2 -7 -5]]\n"
     ]
    }
   ],
   "source": [
    "aug_A = np.hstack((var_A, A.T))\n",
    "print(aug_A)"
   ]
  },
  {
   "cell_type": "markdown",
   "metadata": {},
   "source": [
    "### Stp 2: Gaussian elimination\n",
    "Involves 2 elementary row operations\n",
    "1. Add k times row j to i\n",
    "1. Multiply row i by scalar k"
   ]
  },
  {
   "cell_type": "code",
   "execution_count": 36,
   "metadata": {},
   "outputs": [],
   "source": [
    "def add_row(A, k, j, i):\n",
    "    n = A.shape[0]\n",
    "    E = np.eye(n)\n",
    "    if i == j:\n",
    "        E[i,i] = k + 1\n",
    "    else:\n",
    "        E[i,j] = k\n",
    "    return E@A\n",
    "\n",
    "def scale_row(A, i, k):\n",
    "    n = A.shape[0]\n",
    "    E = np.eye(n)\n",
    "    E[i,i] = k\n",
    "    return E@A"
   ]
  },
  {
   "cell_type": "markdown",
   "metadata": {},
   "source": [
    "### Step 3: Use the two row operations to form a triangular matrix "
   ]
  },
  {
   "cell_type": "code",
   "execution_count": 37,
   "metadata": {},
   "outputs": [
    {
     "name": "stdout",
     "output_type": "stream",
     "text": [
      "[[1. 5. 7.]\n",
      " [0. 3. 9.]]\n"
     ]
    }
   ],
   "source": [
    "B = add_row(aug_A, 2, 0, 1)\n",
    "print(B)"
   ]
  },
  {
   "cell_type": "code",
   "execution_count": 38,
   "metadata": {},
   "outputs": [
    {
     "name": "stdout",
     "output_type": "stream",
     "text": [
      "[[1. 5. 7.]\n",
      " [0. 1. 3.]]\n"
     ]
    }
   ],
   "source": [
    "B = scale_row(B, 1, 1/3)\n",
    "print(B)"
   ]
  },
  {
   "cell_type": "markdown",
   "metadata": {},
   "source": [
    "Step 4: Continue using the 2 operations until you get identity matrix for the variables. T"
   ]
  },
  {
   "cell_type": "code",
   "execution_count": 40,
   "metadata": {},
   "outputs": [
    {
     "name": "stdout",
     "output_type": "stream",
     "text": [
      "[[ 1.  0. -8.]\n",
      " [ 0.  1.  3.]]\n"
     ]
    }
   ],
   "source": [
    "B = add_row(B, -5, 1, 0)\n",
    "print(B)"
   ]
  },
  {
   "cell_type": "markdown",
   "metadata": {},
   "source": [
    "\n",
    "## Permutation matrix on Gaussian Eliminatoin\n",
    "Sometimes permutaiont matrix can be useful to swap sround rows to form your triangular matrix\n",
    "Example:\n",
    "$$2x_2 = 4 $$\n",
    "$$3x_1 - 2x2 = 5 $$"
   ]
  },
  {
   "cell_type": "code",
   "execution_count": 43,
   "metadata": {},
   "outputs": [
    {
     "name": "stdout",
     "output_type": "stream",
     "text": [
      "[[ 0  2  4]\n",
      " [ 3 -2  5]]\n"
     ]
    }
   ],
   "source": [
    "var_A = np.array([[0,2],[3,-2]])\n",
    "A = np.array(([[4,5]]))                 \n",
    "aug_A = np.hstack((var_A, A.T))\n",
    "print(aug_A)"
   ]
  },
  {
   "cell_type": "code",
   "execution_count": 44,
   "metadata": {},
   "outputs": [],
   "source": [
    "# Helper function to switch row\n",
    "def swith_rows(A, i, j):\n",
    "    n = A.shape[0]\n",
    "    E = np.eye(n)\n",
    "    E[i,i] = 0\n",
    "    E[j,j] = 0\n",
    "    E[i,j] = 1\n",
    "    E[j,i] = 1\n",
    "    return E@A"
   ]
  },
  {
   "cell_type": "code",
   "execution_count": 46,
   "metadata": {},
   "outputs": [
    {
     "name": "stdout",
     "output_type": "stream",
     "text": [
      "[[ 3. -2.  5.]\n",
      " [ 0.  2.  4.]]\n"
     ]
    }
   ],
   "source": [
    "B = swith_rows(aug_A, 0, 1)\n",
    "print(B)"
   ]
  },
  {
   "cell_type": "code",
   "execution_count": 47,
   "metadata": {},
   "outputs": [
    {
     "name": "stdout",
     "output_type": "stream",
     "text": [
      "[[ 1.         -0.66666667  1.66666667]\n",
      " [ 0.          2.          4.        ]]\n"
     ]
    }
   ],
   "source": [
    "B = scale_row(B, 0, 1/3)\n",
    "print(B)"
   ]
  },
  {
   "cell_type": "code",
   "execution_count": 48,
   "metadata": {},
   "outputs": [
    {
     "name": "stdout",
     "output_type": "stream",
     "text": [
      "16.0\n"
     ]
    }
   ],
   "source": [
    "A = np.array([4,5])\n",
    "B = np.array([12,13])\n",
    "li_norm = la.norm(B-A, ord=1)\n",
    "print(li_norm)"
   ]
  },
  {
   "cell_type": "code",
   "execution_count": 49,
   "metadata": {},
   "outputs": [
    {
     "name": "stdout",
     "output_type": "stream",
     "text": [
      "11.313708498984761\n"
     ]
    }
   ],
   "source": [
    "l2_norm = la.norm(B-A)\n",
    "print(l2_norm)"
   ]
  },
  {
   "cell_type": "code",
   "execution_count": null,
   "metadata": {},
   "outputs": [],
   "source": []
  }
 ],
 "metadata": {
  "kernelspec": {
   "display_name": "ciast_ai01",
   "language": "python",
   "name": "python3"
  },
  "language_info": {
   "codemirror_mode": {
    "name": "ipython",
    "version": 3
   },
   "file_extension": ".py",
   "mimetype": "text/x-python",
   "name": "python",
   "nbconvert_exporter": "python",
   "pygments_lexer": "ipython3",
   "version": "3.12.4"
  }
 },
 "nbformat": 4,
 "nbformat_minor": 2
}
